{
 "cells": [
  {
   "cell_type": "code",
   "execution_count": 1,
   "metadata": {},
   "outputs": [
    {
     "name": "stdout",
     "output_type": "stream",
     "text": [
      "Requirement already satisfied: vtk in c:\\users\\julia\\appdata\\local\\packages\\pythonsoftwarefoundation.python.3.11_qbz5n2kfra8p0\\localcache\\local-packages\\python311\\site-packages (9.4.1)\n",
      "Requirement already satisfied: matplotlib>=2.0.0 in c:\\users\\julia\\appdata\\local\\packages\\pythonsoftwarefoundation.python.3.11_qbz5n2kfra8p0\\localcache\\local-packages\\python311\\site-packages (from vtk) (3.10.0)\n",
      "Requirement already satisfied: contourpy>=1.0.1 in c:\\users\\julia\\appdata\\local\\packages\\pythonsoftwarefoundation.python.3.11_qbz5n2kfra8p0\\localcache\\local-packages\\python311\\site-packages (from matplotlib>=2.0.0->vtk) (1.3.1)\n",
      "Requirement already satisfied: cycler>=0.10 in c:\\users\\julia\\appdata\\local\\packages\\pythonsoftwarefoundation.python.3.11_qbz5n2kfra8p0\\localcache\\local-packages\\python311\\site-packages (from matplotlib>=2.0.0->vtk) (0.12.1)\n",
      "Requirement already satisfied: fonttools>=4.22.0 in c:\\users\\julia\\appdata\\local\\packages\\pythonsoftwarefoundation.python.3.11_qbz5n2kfra8p0\\localcache\\local-packages\\python311\\site-packages (from matplotlib>=2.0.0->vtk) (4.55.3)\n",
      "Requirement already satisfied: kiwisolver>=1.3.1 in c:\\users\\julia\\appdata\\local\\packages\\pythonsoftwarefoundation.python.3.11_qbz5n2kfra8p0\\localcache\\local-packages\\python311\\site-packages (from matplotlib>=2.0.0->vtk) (1.4.8)\n",
      "Requirement already satisfied: numpy>=1.23 in c:\\users\\julia\\appdata\\local\\packages\\pythonsoftwarefoundation.python.3.11_qbz5n2kfra8p0\\localcache\\local-packages\\python311\\site-packages (from matplotlib>=2.0.0->vtk) (2.2.1)\n",
      "Requirement already satisfied: packaging>=20.0 in c:\\users\\julia\\appdata\\local\\packages\\pythonsoftwarefoundation.python.3.11_qbz5n2kfra8p0\\localcache\\local-packages\\python311\\site-packages (from matplotlib>=2.0.0->vtk) (24.2)\n",
      "Requirement already satisfied: pillow>=8 in c:\\users\\julia\\appdata\\local\\packages\\pythonsoftwarefoundation.python.3.11_qbz5n2kfra8p0\\localcache\\local-packages\\python311\\site-packages (from matplotlib>=2.0.0->vtk) (11.0.0)\n",
      "Requirement already satisfied: pyparsing>=2.3.1 in c:\\users\\julia\\appdata\\local\\packages\\pythonsoftwarefoundation.python.3.11_qbz5n2kfra8p0\\localcache\\local-packages\\python311\\site-packages (from matplotlib>=2.0.0->vtk) (3.2.0)\n",
      "Requirement already satisfied: python-dateutil>=2.7 in c:\\users\\julia\\appdata\\local\\packages\\pythonsoftwarefoundation.python.3.11_qbz5n2kfra8p0\\localcache\\local-packages\\python311\\site-packages (from matplotlib>=2.0.0->vtk) (2.9.0.post0)\n",
      "Requirement already satisfied: six>=1.5 in c:\\users\\julia\\appdata\\local\\packages\\pythonsoftwarefoundation.python.3.11_qbz5n2kfra8p0\\localcache\\local-packages\\python311\\site-packages (from python-dateutil>=2.7->matplotlib>=2.0.0->vtk) (1.17.0)\n",
      "Note: you may need to restart the kernel to use updated packages.\n"
     ]
    },
    {
     "name": "stderr",
     "output_type": "stream",
     "text": [
      "\n",
      "[notice] A new release of pip is available: 24.0 -> 24.3.1\n",
      "[notice] To update, run: C:\\Users\\julia\\AppData\\Local\\Microsoft\\WindowsApps\\PythonSoftwareFoundation.Python.3.11_qbz5n2kfra8p0\\python.exe -m pip install --upgrade pip\n"
     ]
    }
   ],
   "source": [
    "pip install vtk "
   ]
  },
  {
   "cell_type": "code",
   "execution_count": 2,
   "metadata": {},
   "outputs": [
    {
     "ename": "",
     "evalue": "",
     "output_type": "error",
     "traceback": [
      "\u001b[1;31mThe Kernel crashed while executing code in the current cell or a previous cell. \n",
      "\u001b[1;31mPlease review the code in the cell(s) to identify a possible cause of the failure. \n",
      "\u001b[1;31mClick <a href='https://aka.ms/vscodeJupyterKernelCrash'>here</a> for more info. \n",
      "\u001b[1;31mView Jupyter <a href='command:jupyter.viewOutput'>log</a> for further details."
     ]
    }
   ],
   "source": [
    "import vtk\n",
    "import os\n",
    "\n",
    "def load_and_display_model(model_path):\n",
    "    \"\"\"Load and display a 3D model from a .vtk file.\"\"\"\n",
    "    # Reader for the VTK PolyData file\n",
    "    reader = vtk.vtkPolyDataReader()\n",
    "    reader.SetFileName(model_path)\n",
    "    reader.Update()\n",
    "\n",
    "    # Mapper for the model\n",
    "    mapper = vtk.vtkPolyDataMapper()\n",
    "    mapper.SetInputConnection(reader.GetOutputPort())\n",
    "\n",
    "    # Actor to represent the model\n",
    "    actor = vtk.vtkActor()\n",
    "    actor.SetMapper(mapper)\n",
    "\n",
    "    return actor\n",
    "\n",
    "def load_and_display_nrrd(volume_path, color_map=None):\n",
    "    \"\"\"Load and display a volume from a .nrrd file.\"\"\"\n",
    "    # Reader for the NRRD file\n",
    "    reader = vtk.vtkNrrdReader()\n",
    "    reader.SetFileName(volume_path)\n",
    "    reader.Update()\n",
    "\n",
    "    # Map scalars to colors\n",
    "    color_function = vtk.vtkColorTransferFunction()\n",
    "    if color_map:\n",
    "        for value, color in color_map.items():\n",
    "            color_function.AddRGBPoint(value, *color)\n",
    "    else:\n",
    "        color_function.AddRGBPoint(0, 0.0, 0.0, 0.0)  # Black\n",
    "        color_function.AddRGBPoint(255, 1.0, 1.0, 1.0)  # White\n",
    "\n",
    "    volume_mapper = vtk.vtkSmartVolumeMapper()\n",
    "    volume_mapper.SetInputConnection(reader.GetOutputPort())\n",
    "\n",
    "    volume_property = vtk.vtkVolumeProperty()\n",
    "    volume_property.SetColor(color_function)\n",
    "    volume_property.SetScalarOpacityUnitDistance(0.1)\n",
    "\n",
    "    volume = vtk.vtkVolume()\n",
    "    volume.SetMapper(volume_mapper)\n",
    "    volume.SetProperty(volume_property)\n",
    "\n",
    "    return volume\n",
    "\n",
    "def main():\n",
    "    # Base directory for files\n",
    "    base_dir = os.path.join('C:', 'Users', 'julia', 'OneDrive', 'Pulpit', 'vtk projekt', 'liver-2014-02-20')\n",
    "\n",
    "    # File paths\n",
    "    model_file = os.path.join(base_dir, 'models', 'Model_10_LiverSegment_III.vtk')\n",
    "    volume_file = os.path.join(base_dir, 'volumes', 'grayscale', 'IM-0001-0015.dcm.nrrd')\n",
    "\n",
    "    # Renderer\n",
    "    renderer = vtk.vtkRenderer()\n",
    "\n",
    "    # Load and add model to renderer\n",
    "    model_actor = load_and_display_model(model_file)\n",
    "    renderer.AddActor(model_actor)\n",
    "\n",
    "    # Load and add volume to renderer\n",
    "    volume_actor = load_and_display_nrrd(volume_file)\n",
    "    renderer.AddVolume(volume_actor)\n",
    "\n",
    "    renderer.SetBackground(0.1, 0.1, 0.1)  # Dark background\n",
    "\n",
    "    # Render window\n",
    "    render_window = vtk.vtkRenderWindow()\n",
    "    render_window.AddRenderer(renderer)\n",
    "\n",
    "    # Interactor\n",
    "    render_window_interactor = vtk.vtkRenderWindowInteractor()\n",
    "    render_window_interactor.SetRenderWindow(render_window)\n",
    "\n",
    "    # Start visualization\n",
    "    render_window.Render()\n",
    "    render_window_interactor.Start()\n",
    "\n",
    "if __name__ == \"__main__\":\n",
    "    main()\n"
   ]
  },
  {
   "cell_type": "code",
   "execution_count": null,
   "metadata": {},
   "outputs": [],
   "source": []
  }
 ],
 "metadata": {
  "kernelspec": {
   "display_name": "Python 3",
   "language": "python",
   "name": "python3"
  },
  "language_info": {
   "codemirror_mode": {
    "name": "ipython",
    "version": 3
   },
   "file_extension": ".py",
   "mimetype": "text/x-python",
   "name": "python",
   "nbconvert_exporter": "python",
   "pygments_lexer": "ipython3",
   "version": "3.11.9"
  }
 },
 "nbformat": 4,
 "nbformat_minor": 2
}
